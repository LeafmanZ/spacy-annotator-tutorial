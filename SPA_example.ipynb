{
 "cells": [
  {
   "cell_type": "code",
   "execution_count": 9,
   "metadata": {},
   "outputs": [],
   "source": [
    "import pandas as pd\n",
    "import spacy_annotator as spa\n",
    "import spacy"
   ]
  },
  {
   "cell_type": "code",
   "execution_count": 10,
   "metadata": {},
   "outputs": [
    {
     "data": {
      "text/html": [
       "<div>\n",
       "<style scoped>\n",
       "    .dataframe tbody tr th:only-of-type {\n",
       "        vertical-align: middle;\n",
       "    }\n",
       "\n",
       "    .dataframe tbody tr th {\n",
       "        vertical-align: top;\n",
       "    }\n",
       "\n",
       "    .dataframe thead th {\n",
       "        text-align: right;\n",
       "    }\n",
       "</style>\n",
       "<table border=\"1\" class=\"dataframe\">\n",
       "  <thead>\n",
       "    <tr style=\"text-align: right;\">\n",
       "      <th></th>\n",
       "      <th>text</th>\n",
       "    </tr>\n",
       "  </thead>\n",
       "  <tbody>\n",
       "    <tr>\n",
       "      <th>0</th>\n",
       "      <td>The kids were loud. They were way too loud for...</td>\n",
       "    </tr>\n",
       "    <tr>\n",
       "      <th>1</th>\n",
       "      <td>The only stipulation from Zelenskiy’s governme...</td>\n",
       "    </tr>\n",
       "    <tr>\n",
       "      <th>2</th>\n",
       "      <td>Padalko had her own dilemma. Her husband, Yego...</td>\n",
       "    </tr>\n",
       "    <tr>\n",
       "      <th>3</th>\n",
       "      <td>Josh had spent year and year accumulating the ...</td>\n",
       "    </tr>\n",
       "    <tr>\n",
       "      <th>4</th>\n",
       "      <td>The time had come for Nancy to say goodbye. Sh...</td>\n",
       "    </tr>\n",
       "    <tr>\n",
       "      <th>5</th>\n",
       "      <td>He ordered his regular breakfast. Two eggs sun...</td>\n",
       "    </tr>\n",
       "    <tr>\n",
       "      <th>6</th>\n",
       "      <td>Should he write it down? That was the question...</td>\n",
       "    </tr>\n",
       "    <tr>\n",
       "      <th>7</th>\n",
       "      <td>He became an ally of President Boris Yeltsin a...</td>\n",
       "    </tr>\n",
       "    <tr>\n",
       "      <th>8</th>\n",
       "      <td>It was hidden under the log beside the stream....</td>\n",
       "    </tr>\n",
       "    <tr>\n",
       "      <th>9</th>\n",
       "      <td>Debbie put her hand into the hole, sliding her...</td>\n",
       "    </tr>\n",
       "    <tr>\n",
       "      <th>10</th>\n",
       "      <td>She tried not to judge him. His ratty clothes ...</td>\n",
       "    </tr>\n",
       "    <tr>\n",
       "      <th>11</th>\n",
       "      <td>She needed glasses. It wasn't that she couldn'...</td>\n",
       "    </tr>\n",
       "    <tr>\n",
       "      <th>12</th>\n",
       "      <td>There was a time and a place for Stephanie to ...</td>\n",
       "    </tr>\n",
       "    <tr>\n",
       "      <th>13</th>\n",
       "      <td>It wasn't quite yet time to panic. There was s...</td>\n",
       "    </tr>\n",
       "    <tr>\n",
       "      <th>14</th>\n",
       "      <td>Indescribable oppression, which seemed to gene...</td>\n",
       "    </tr>\n",
       "    <tr>\n",
       "      <th>15</th>\n",
       "      <td>There wasn't a whole lot more that could be do...</td>\n",
       "    </tr>\n",
       "    <tr>\n",
       "      <th>16</th>\n",
       "      <td>Roman Arkadyevich Abramovich was born in Sarat...</td>\n",
       "    </tr>\n",
       "    <tr>\n",
       "      <th>17</th>\n",
       "      <td>It seemed like it should have been so simple. ...</td>\n",
       "    </tr>\n",
       "    <tr>\n",
       "      <th>18</th>\n",
       "      <td>The red ball sat proudly at the top of the toy...</td>\n",
       "    </tr>\n",
       "    <tr>\n",
       "      <th>19</th>\n",
       "      <td>Betty was a creature of habit and she thought ...</td>\n",
       "    </tr>\n",
       "    <tr>\n",
       "      <th>20</th>\n",
       "      <td>Marichka Padalko, 46, is among a small coterie...</td>\n",
       "    </tr>\n",
       "    <tr>\n",
       "      <th>21</th>\n",
       "      <td>The result is that Padalko, a host on 1+1, whi...</td>\n",
       "    </tr>\n",
       "    <tr>\n",
       "      <th>22</th>\n",
       "      <td>For the viewers, she said, the broadcasting te...</td>\n",
       "    </tr>\n",
       "    <tr>\n",
       "      <th>23</th>\n",
       "      <td>Some have suggested that the News United initi...</td>\n",
       "    </tr>\n",
       "    <tr>\n",
       "      <th>24</th>\n",
       "      <td>In an unusual move for a man widely described ...</td>\n",
       "    </tr>\n",
       "    <tr>\n",
       "      <th>25</th>\n",
       "      <td>In the aftermath of that moment, critics and v...</td>\n",
       "    </tr>\n",
       "    <tr>\n",
       "      <th>26</th>\n",
       "      <td>It seemed that the Hollywood glitterati in the...</td>\n",
       "    </tr>\n",
       "    <tr>\n",
       "      <th>27</th>\n",
       "      <td>During his speech, Smith seemed to justify his...</td>\n",
       "    </tr>\n",
       "    <tr>\n",
       "      <th>28</th>\n",
       "      <td>As of now, Chris Rock has declined to press ch...</td>\n",
       "    </tr>\n",
       "  </tbody>\n",
       "</table>\n",
       "</div>"
      ],
      "text/plain": [
       "                                                 text\n",
       "0   The kids were loud. They were way too loud for...\n",
       "1   The only stipulation from Zelenskiy’s governme...\n",
       "2   Padalko had her own dilemma. Her husband, Yego...\n",
       "3   Josh had spent year and year accumulating the ...\n",
       "4   The time had come for Nancy to say goodbye. Sh...\n",
       "5   He ordered his regular breakfast. Two eggs sun...\n",
       "6   Should he write it down? That was the question...\n",
       "7   He became an ally of President Boris Yeltsin a...\n",
       "8   It was hidden under the log beside the stream....\n",
       "9   Debbie put her hand into the hole, sliding her...\n",
       "10  She tried not to judge him. His ratty clothes ...\n",
       "11  She needed glasses. It wasn't that she couldn'...\n",
       "12  There was a time and a place for Stephanie to ...\n",
       "13  It wasn't quite yet time to panic. There was s...\n",
       "14  Indescribable oppression, which seemed to gene...\n",
       "15  There wasn't a whole lot more that could be do...\n",
       "16  Roman Arkadyevich Abramovich was born in Sarat...\n",
       "17  It seemed like it should have been so simple. ...\n",
       "18  The red ball sat proudly at the top of the toy...\n",
       "19  Betty was a creature of habit and she thought ...\n",
       "20  Marichka Padalko, 46, is among a small coterie...\n",
       "21  The result is that Padalko, a host on 1+1, whi...\n",
       "22  For the viewers, she said, the broadcasting te...\n",
       "23  Some have suggested that the News United initi...\n",
       "24  In an unusual move for a man widely described ...\n",
       "25  In the aftermath of that moment, critics and v...\n",
       "26  It seemed that the Hollywood glitterati in the...\n",
       "27  During his speech, Smith seemed to justify his...\n",
       "28  As of now, Chris Rock has declined to press ch..."
      ]
     },
     "execution_count": 10,
     "metadata": {},
     "output_type": "execute_result"
    }
   ],
   "source": [
    "df = pd.read_csv('SPA_text.csv') # Load in text data to train with.\n",
    "df"
   ]
  },
  {
   "cell_type": "code",
   "execution_count": 11,
   "metadata": {},
   "outputs": [],
   "source": [
    "nlp = spacy.load(\"en_core_web_trf\") # Loads a pretrained spacy transformer model. You can comment this out if you want custom labels."
   ]
  },
  {
   "cell_type": "code",
   "execution_count": 14,
   "metadata": {},
   "outputs": [],
   "source": [
    "# Set up your annotator labels. For more examples refer to: https://github.com/ieriii/spacy-annotator/blob/master/demo/spacy_annotator_demo.ipynb\n",
    "annotator = spa.Annotator(labels=[\"PERSON\", \"COUNTRY\"], model=nlp) # Annotation with spaCy model\n",
    "# annotator = spa.Annotator(labels=[\"CUSTOM_LABEL\"]) # You can use this to label custom named entities if you choose not to use an existing model."
   ]
  },
  {
   "cell_type": "code",
   "execution_count": 15,
   "metadata": {},
   "outputs": [
    {
     "data": {
      "application/vnd.jupyter.widget-view+json": {
       "model_id": "9db625c0c28f41d3920cb1635de6d809",
       "version_major": 2,
       "version_minor": 0
      },
      "text/plain": [
       "HTML(value='-1 examples annotated, 30 examples left')"
      ]
     },
     "metadata": {},
     "output_type": "display_data"
    },
    {
     "data": {
      "application/vnd.jupyter.widget-view+json": {
       "model_id": "07290a9baa5642f2967677f90c780b75",
       "version_major": 2,
       "version_minor": 0
      },
      "text/plain": [
       "Text(value='', description='PERSON', layout=Layout(width='auto'), placeholder='ent one, ent two, ent three')"
      ]
     },
     "metadata": {},
     "output_type": "display_data"
    },
    {
     "data": {
      "application/vnd.jupyter.widget-view+json": {
       "model_id": "7f0b5bbfb82e4ea69a369c0d642711a0",
       "version_major": 2,
       "version_minor": 0
      },
      "text/plain": [
       "Text(value='', description='PLACE', layout=Layout(width='auto'), placeholder='ent one, ent two, ent three')"
      ]
     },
     "metadata": {},
     "output_type": "display_data"
    },
    {
     "data": {
      "application/vnd.jupyter.widget-view+json": {
       "model_id": "79c8d6969a734130b55da74fbea410aa",
       "version_major": 2,
       "version_minor": 0
      },
      "text/plain": [
       "HBox(children=(Button(button_style='success', description='submit', style=ButtonStyle()), Button(button_style=…"
      ]
     },
     "metadata": {},
     "output_type": "display_data"
    },
    {
     "data": {
      "application/vnd.jupyter.widget-view+json": {
       "model_id": "d721a63c7cfc4fbcaa5423bda46d1edf",
       "version_major": 2,
       "version_minor": 0
      },
      "text/plain": [
       "Output()"
      ]
     },
     "metadata": {},
     "output_type": "display_data"
    }
   ],
   "source": [
    "df_labels = annotator.annotate(df=df, col_text=\"text\")"
   ]
  },
  {
   "cell_type": "code",
   "execution_count": null,
   "metadata": {},
   "outputs": [],
   "source": [
    "df_labels"
   ]
  },
  {
   "cell_type": "code",
   "execution_count": null,
   "metadata": {},
   "outputs": [],
   "source": [
    "# For the sake of the example we will just save our annotated data as training and validation data (Normally you would have more data and do train/test splits).\n",
    "spacy_train_annotations = annotator.to_spacy(df_labels, \"train.spacy\")\n",
    "spacy_dev_annotations = annotator.to_spacy(df_labels, \"dev.spacy\")"
   ]
  }
 ],
 "metadata": {
  "interpreter": {
   "hash": "b28f5b9e2dcdadba11351f0d1b48d7823303aa7c4e6fa580f872efca6010cfd5"
  },
  "kernelspec": {
   "display_name": "Python 3.10.3 ('spaenv')",
   "language": "python",
   "name": "python3"
  },
  "language_info": {
   "codemirror_mode": {
    "name": "ipython",
    "version": 3
   },
   "file_extension": ".py",
   "mimetype": "text/x-python",
   "name": "python",
   "nbconvert_exporter": "python",
   "pygments_lexer": "ipython3",
   "version": "3.9.11"
  },
  "orig_nbformat": 4
 },
 "nbformat": 4,
 "nbformat_minor": 2
}
