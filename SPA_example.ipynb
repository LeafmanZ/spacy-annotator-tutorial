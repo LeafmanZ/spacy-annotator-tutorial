{
 "cells": [
  {
   "cell_type": "code",
   "execution_count": null,
   "metadata": {},
   "outputs": [],
   "source": [
    "import pandas as pd\n",
    "import spacy_annotator as spa\n",
    "import spacy"
   ]
  },
  {
   "cell_type": "code",
   "execution_count": null,
   "metadata": {},
   "outputs": [],
   "source": [
    "df = pd.read_csv('SPA_text.csv') # Load in text data to train with.\n",
    "df"
   ]
  },
  {
   "cell_type": "code",
   "execution_count": null,
   "metadata": {},
   "outputs": [],
   "source": [
    "nlp = spacy.load(\"en_core_web_trf\") # Loads a pretrained spacy transformer model. You can comment this out if you want custom labels."
   ]
  },
  {
   "cell_type": "code",
   "execution_count": null,
   "metadata": {},
   "outputs": [],
   "source": [
    "# Set up your annotator labels. For more examples refer to: \n",
    "annotator = spa.Annotator(labels=[\"PERSON\", \"GPE\"], model=nlp) # Annotation with spaCy model\n",
    "# annotator = spa.Annotator(labels=[\"CUSTOM_LABEL\"]) # You can use this to label custom named entities if you choose not to use an existing model."
   ]
  },
  {
   "cell_type": "code",
   "execution_count": null,
   "metadata": {},
   "outputs": [],
   "source": [
    "df_labels = annotator.annotate(df=df, col_text=\"text\")"
   ]
  },
  {
   "cell_type": "code",
   "execution_count": null,
   "metadata": {},
   "outputs": [],
   "source": [
    "df_labels"
   ]
  },
  {
   "cell_type": "code",
   "execution_count": null,
   "metadata": {},
   "outputs": [],
   "source": [
    "# For the sake of the example we will just save our annotated data as training and validation data (Normally you would have more data and do train/test splits).\n",
    "spacy_train_annotations = annotator.to_spacy(df_labels, \"train.spacy\")\n",
    "spacy_dev_annotations = annotator.to_spacy(df_labels, \"dev.spacy\")"
   ]
  }
 ],
 "metadata": {
  "interpreter": {
   "hash": "b28f5b9e2dcdadba11351f0d1b48d7823303aa7c4e6fa580f872efca6010cfd5"
  },
  "kernelspec": {
   "display_name": "Python 3.10.3 ('spaenv')",
   "language": "python",
   "name": "python3"
  },
  "language_info": {
   "codemirror_mode": {
    "name": "ipython",
    "version": 3
   },
   "file_extension": ".py",
   "mimetype": "text/x-python",
   "name": "python",
   "nbconvert_exporter": "python",
   "pygments_lexer": "ipython3",
   "version": "3.9.11"
  },
  "orig_nbformat": 4
 },
 "nbformat": 4,
 "nbformat_minor": 2
}
